{
  "nbformat": 4,
  "nbformat_minor": 0,
  "metadata": {
    "colab": {
      "provenance": [],
      "gpuType": "V28",
      "authorship_tag": "ABX9TyNS8o5zVJlULlhbstdsU2kc",
      "include_colab_link": true
    },
    "kernelspec": {
      "name": "python3",
      "display_name": "Python 3"
    },
    "language_info": {
      "name": "python"
    },
    "accelerator": "TPU"
  },
  "cells": [
    {
      "cell_type": "markdown",
      "metadata": {
        "id": "view-in-github",
        "colab_type": "text"
      },
      "source": [
        "<a href=\"https://colab.research.google.com/github/laurarincon1/UDEA-ai4eng-20251/blob/main/02_preprocesado.ipynb\" target=\"_parent\"><img src=\"https://colab.research.google.com/assets/colab-badge.svg\" alt=\"Open In Colab\"/></a>"
      ]
    },
    {
      "cell_type": "markdown",
      "source": [
        "#Bibliotecas"
      ],
      "metadata": {
        "id": "m-UW-G6jCsB5"
      }
    },
    {
      "cell_type": "code",
      "execution_count": null,
      "metadata": {
        "id": "ug2LbgIP3LuF"
      },
      "outputs": [],
      "source": [
        "import pandas as pd\n",
        "import numpy as np\n",
        "import os\n",
        "from sklearn.preprocessing import MinMaxScaler"
      ]
    },
    {
      "cell_type": "markdown",
      "source": [
        "#Carga de datos"
      ],
      "metadata": {
        "id": "2vCc__RbC1An"
      }
    },
    {
      "cell_type": "markdown",
      "source": [
        "Se usa  el archivo kaggle.json para la carga de datos"
      ],
      "metadata": {
        "id": "YZ0kh8XRDQpd"
      }
    },
    {
      "cell_type": "code",
      "source": [
        "os.environ['KAGGLE_CONFIG_DIR'] = '.' # Establece la variable de entorno 'KAGGLE_CONFIG_DIR' al directorio actual ('.').\n",
        "!kaggle competitions download -c udea-ai-4-eng-20251-pruebas-saber-pro-colombia #descarga los archivos asociados a esa competencia en el directorio actual.\n",
        "!unzip udea-ai-4-eng-20251-pruebas-saber-pro-colombia.zip #Extrae todos los archivos contenidos en el .zip descargado del Kaggle."
      ],
      "metadata": {
        "colab": {
          "base_uri": "https://localhost:8080/"
        },
        "id": "8VtNltB_lwnz",
        "outputId": "8d408375-0799-49e1-cceb-a29ad4afc097"
      },
      "execution_count": null,
      "outputs": [
        {
          "output_type": "stream",
          "name": "stdout",
          "text": [
            "Warning: Your Kaggle API key is readable by other users on this system! To fix this, you can run 'chmod 600 ./kaggle.json'\n",
            "Downloading udea-ai-4-eng-20251-pruebas-saber-pro-colombia.zip to /content\n",
            "  0% 0.00/29.9M [00:00<?, ?B/s]\n",
            "100% 29.9M/29.9M [00:00<00:00, 1.13GB/s]\n",
            "Archive:  udea-ai-4-eng-20251-pruebas-saber-pro-colombia.zip\n",
            "  inflating: submission_example.csv  \n",
            "  inflating: test.csv                \n",
            "  inflating: train.csv               \n"
          ]
        }
      ]
    },
    {
      "cell_type": "code",
      "source": [
        "# Lee el archivo 'train.csv'\n",
        "datos = pd.read_csv(\"train.csv\")"
      ],
      "metadata": {
        "id": "M_8x1YQRDICm"
      },
      "execution_count": null,
      "outputs": []
    },
    {
      "cell_type": "code",
      "source": [
        "print(datos.shape)"
      ],
      "metadata": {
        "colab": {
          "base_uri": "https://localhost:8080/"
        },
        "id": "xc_NOK1qohAg",
        "outputId": "37d86f3d-2b07-4482-af3b-93fc3a694522"
      },
      "execution_count": null,
      "outputs": [
        {
          "output_type": "stream",
          "name": "stdout",
          "text": [
            "(692500, 21)\n"
          ]
        }
      ]
    },
    {
      "cell_type": "markdown",
      "source": [
        "#Limpia de datos"
      ],
      "metadata": {
        "id": "LoRxAzMYHHXJ"
      }
    },
    {
      "cell_type": "markdown",
      "source": [
        "**Eliminación de variables no informativas**"
      ],
      "metadata": {
        "id": "Nb5-29Aw86hA"
      }
    },
    {
      "cell_type": "code",
      "source": [
        "del(datos[\"ID\"])\n",
        "del(datos[\"ESTU_PRIVADO_LIBERTAD\"])\n",
        "del(datos[\"PERIODO\"])\n",
        "del(datos[\"FAMI_TIENEINTERNET.1\"])\n"
      ],
      "metadata": {
        "id": "6y71UYll840Q"
      },
      "execution_count": null,
      "outputs": []
    },
    {
      "cell_type": "markdown",
      "source": [
        "**Tratamiento de valores nulos**"
      ],
      "metadata": {
        "id": "Hk2V4uVi7f1k"
      }
    },
    {
      "cell_type": "code",
      "source": [
        "datos.isna().sum()\n"
      ],
      "metadata": {
        "colab": {
          "base_uri": "https://localhost:8080/",
          "height": 617
        },
        "id": "lGM6aBGx3e-D",
        "outputId": "f7fb15d5-e32e-4349-880a-ad68c91fa107"
      },
      "execution_count": null,
      "outputs": [
        {
          "output_type": "execute_result",
          "data": {
            "text/plain": [
              "ESTU_PRGM_ACADEMICO                   0\n",
              "ESTU_PRGM_DEPARTAMENTO                0\n",
              "ESTU_VALORMATRICULAUNIVERSIDAD     6287\n",
              "ESTU_HORASSEMANATRABAJA           30857\n",
              "FAMI_ESTRATOVIVIENDA              32137\n",
              "FAMI_TIENEINTERNET                26629\n",
              "FAMI_EDUCACIONPADRE               23178\n",
              "FAMI_TIENELAVADORA                39773\n",
              "FAMI_TIENEAUTOMOVIL               43623\n",
              "ESTU_PAGOMATRICULAPROPIO           6498\n",
              "FAMI_TIENECOMPUTADOR              38103\n",
              "FAMI_EDUCACIONMADRE               23664\n",
              "RENDIMIENTO_GLOBAL                    0\n",
              "coef_1                                0\n",
              "coef_2                                0\n",
              "coef_3                                0\n",
              "coef_4                                0\n",
              "dtype: int64"
            ],
            "text/html": [
              "<div>\n",
              "<style scoped>\n",
              "    .dataframe tbody tr th:only-of-type {\n",
              "        vertical-align: middle;\n",
              "    }\n",
              "\n",
              "    .dataframe tbody tr th {\n",
              "        vertical-align: top;\n",
              "    }\n",
              "\n",
              "    .dataframe thead th {\n",
              "        text-align: right;\n",
              "    }\n",
              "</style>\n",
              "<table border=\"1\" class=\"dataframe\">\n",
              "  <thead>\n",
              "    <tr style=\"text-align: right;\">\n",
              "      <th></th>\n",
              "      <th>0</th>\n",
              "    </tr>\n",
              "  </thead>\n",
              "  <tbody>\n",
              "    <tr>\n",
              "      <th>ESTU_PRGM_ACADEMICO</th>\n",
              "      <td>0</td>\n",
              "    </tr>\n",
              "    <tr>\n",
              "      <th>ESTU_PRGM_DEPARTAMENTO</th>\n",
              "      <td>0</td>\n",
              "    </tr>\n",
              "    <tr>\n",
              "      <th>ESTU_VALORMATRICULAUNIVERSIDAD</th>\n",
              "      <td>6287</td>\n",
              "    </tr>\n",
              "    <tr>\n",
              "      <th>ESTU_HORASSEMANATRABAJA</th>\n",
              "      <td>30857</td>\n",
              "    </tr>\n",
              "    <tr>\n",
              "      <th>FAMI_ESTRATOVIVIENDA</th>\n",
              "      <td>32137</td>\n",
              "    </tr>\n",
              "    <tr>\n",
              "      <th>FAMI_TIENEINTERNET</th>\n",
              "      <td>26629</td>\n",
              "    </tr>\n",
              "    <tr>\n",
              "      <th>FAMI_EDUCACIONPADRE</th>\n",
              "      <td>23178</td>\n",
              "    </tr>\n",
              "    <tr>\n",
              "      <th>FAMI_TIENELAVADORA</th>\n",
              "      <td>39773</td>\n",
              "    </tr>\n",
              "    <tr>\n",
              "      <th>FAMI_TIENEAUTOMOVIL</th>\n",
              "      <td>43623</td>\n",
              "    </tr>\n",
              "    <tr>\n",
              "      <th>ESTU_PAGOMATRICULAPROPIO</th>\n",
              "      <td>6498</td>\n",
              "    </tr>\n",
              "    <tr>\n",
              "      <th>FAMI_TIENECOMPUTADOR</th>\n",
              "      <td>38103</td>\n",
              "    </tr>\n",
              "    <tr>\n",
              "      <th>FAMI_EDUCACIONMADRE</th>\n",
              "      <td>23664</td>\n",
              "    </tr>\n",
              "    <tr>\n",
              "      <th>RENDIMIENTO_GLOBAL</th>\n",
              "      <td>0</td>\n",
              "    </tr>\n",
              "    <tr>\n",
              "      <th>coef_1</th>\n",
              "      <td>0</td>\n",
              "    </tr>\n",
              "    <tr>\n",
              "      <th>coef_2</th>\n",
              "      <td>0</td>\n",
              "    </tr>\n",
              "    <tr>\n",
              "      <th>coef_3</th>\n",
              "      <td>0</td>\n",
              "    </tr>\n",
              "    <tr>\n",
              "      <th>coef_4</th>\n",
              "      <td>0</td>\n",
              "    </tr>\n",
              "  </tbody>\n",
              "</table>\n",
              "</div><br><label><b>dtype:</b> int64</label>"
            ]
          },
          "metadata": {},
          "execution_count": 7
        }
      ]
    },
    {
      "cell_type": "markdown",
      "source": [
        "*Modificamos la variable ESTU_HORASSEMANATRABAJA para que sea una variable cuantitativa*"
      ],
      "metadata": {
        "id": "uAlRYGJUItte"
      }
    },
    {
      "cell_type": "code",
      "source": [
        "\n",
        "# Diccionario de mapeo\n",
        "mapeo_horas = {\n",
        "    'Menos de 10 horas': 5,\n",
        "    'Entre 11 y 20 horas': 15,\n",
        "    'Entre 21 y 30 horas': 25,\n",
        "    'Más de 30 horas': 35,\n",
        "    '0':0\n",
        "}\n",
        "\n",
        "# Mapear los valores de texto a números\n",
        "datos['ESTU_HORASSEMANATRABAJA'] = datos['ESTU_HORASSEMANATRABAJA'].map(mapeo_horas)\n"
      ],
      "metadata": {
        "id": "RvPPgb-4E6W_"
      },
      "execution_count": null,
      "outputs": []
    },
    {
      "cell_type": "code",
      "source": [
        "#Remplazamos con la media\n",
        "datos['ESTU_HORASSEMANATRABAJA']  = datos.ESTU_HORASSEMANATRABAJA.fillna(datos.ESTU_HORASSEMANATRABAJA.mean())"
      ],
      "metadata": {
        "id": "CPT0drHMGuGl"
      },
      "execution_count": null,
      "outputs": []
    },
    {
      "cell_type": "code",
      "source": [
        "datos['ESTU_HORASSEMANATRABAJA']=datos['ESTU_HORASSEMANATRABAJA'].astype(int)"
      ],
      "metadata": {
        "id": "sNrmnYc2FEuW"
      },
      "execution_count": null,
      "outputs": []
    },
    {
      "cell_type": "markdown",
      "source": [
        "*Modificamos la variable ESTU_VALORMATRICULAUNIVERSIDAD para que sea una variable cuantitativa*"
      ],
      "metadata": {
        "id": "hOlt588xHtAX"
      }
    },
    {
      "cell_type": "code",
      "source": [
        "# Diccionario\n",
        "mapeo_valor_matricula = {\n",
        "    'Menos de 500 mil': 250000,\n",
        "    'Entre 500 mil y menos de 1 millón': 750000,\n",
        "    'Entre 1 millón y menos de 2.5 millones': 1750000,\n",
        "    'Entre 2.5 millones y menos de 4 millones': 3250000,\n",
        "    'Entre 4 millones y menos de 5.5 millones': 4750000,\n",
        "    'Entre 5.5 millones y menos de 7 millones': 6250000,\n",
        "    'Más de 7 millones': 8000000\n",
        "}\n",
        "\n",
        "\n",
        "# Mapear los valores de texto a números\n",
        "datos['ESTU_VALORMATRICULAUNIVERSIDAD'] = datos['ESTU_VALORMATRICULAUNIVERSIDAD'].map(mapeo_valor_matricula)\n"
      ],
      "metadata": {
        "collapsed": true,
        "id": "m70fY1g2IA95"
      },
      "execution_count": null,
      "outputs": []
    },
    {
      "cell_type": "code",
      "source": [
        "#Remplazamos con la media\n",
        "datos['ESTU_VALORMATRICULAUNIVERSIDAD']  = datos.ESTU_VALORMATRICULAUNIVERSIDAD.fillna(datos.ESTU_VALORMATRICULAUNIVERSIDAD.mean())"
      ],
      "metadata": {
        "id": "wfhKkBjMKjeP"
      },
      "execution_count": null,
      "outputs": []
    },
    {
      "cell_type": "code",
      "source": [
        "datos['ESTU_VALORMATRICULAUNIVERSIDAD']=datos['ESTU_VALORMATRICULAUNIVERSIDAD'].astype(int)"
      ],
      "metadata": {
        "id": "Xe0V_rYvKsrI"
      },
      "execution_count": null,
      "outputs": []
    },
    {
      "cell_type": "markdown",
      "source": [
        "*Remplazo de datos categoricos faltantes(NA) por la Moda*"
      ],
      "metadata": {
        "id": "a_-pD424ufDd"
      }
    },
    {
      "cell_type": "code",
      "source": [
        "modo = datos['FAMI_ESTRATOVIVIENDA'].mode()[0]\n",
        "datos['FAMI_ESTRATOVIVIENDA'].fillna(modo, inplace=True)"
      ],
      "metadata": {
        "colab": {
          "base_uri": "https://localhost:8080/"
        },
        "id": "HWCaW9dAt-lo",
        "outputId": "f422b804-11bb-4be8-ce31-b5536bcd768d"
      },
      "execution_count": null,
      "outputs": [
        {
          "output_type": "stream",
          "name": "stderr",
          "text": [
            "<ipython-input-14-6521ba6ae174>:2: FutureWarning: A value is trying to be set on a copy of a DataFrame or Series through chained assignment using an inplace method.\n",
            "The behavior will change in pandas 3.0. This inplace method will never work because the intermediate object on which we are setting values always behaves as a copy.\n",
            "\n",
            "For example, when doing 'df[col].method(value, inplace=True)', try using 'df.method({col: value}, inplace=True)' or df[col] = df[col].method(value) instead, to perform the operation inplace on the original object.\n",
            "\n",
            "\n",
            "  datos['FAMI_ESTRATOVIVIENDA'].fillna(modo, inplace=True)\n"
          ]
        }
      ]
    },
    {
      "cell_type": "code",
      "source": [
        "modo = datos['FAMI_TIENEAUTOMOVIL'].mode()[0]\n",
        "datos['FAMI_TIENEAUTOMOVIL'].fillna(modo, inplace=True)"
      ],
      "metadata": {
        "colab": {
          "base_uri": "https://localhost:8080/"
        },
        "id": "Wq052c8mwP-p",
        "outputId": "67eaeff7-d76d-478e-d805-6d1dd9874387"
      },
      "execution_count": null,
      "outputs": [
        {
          "output_type": "stream",
          "name": "stderr",
          "text": [
            "<ipython-input-15-2c285ab07e07>:2: FutureWarning: A value is trying to be set on a copy of a DataFrame or Series through chained assignment using an inplace method.\n",
            "The behavior will change in pandas 3.0. This inplace method will never work because the intermediate object on which we are setting values always behaves as a copy.\n",
            "\n",
            "For example, when doing 'df[col].method(value, inplace=True)', try using 'df.method({col: value}, inplace=True)' or df[col] = df[col].method(value) instead, to perform the operation inplace on the original object.\n",
            "\n",
            "\n",
            "  datos['FAMI_TIENEAUTOMOVIL'].fillna(modo, inplace=True)\n"
          ]
        }
      ]
    },
    {
      "cell_type": "code",
      "source": [
        "# Eliminar filas que contienen al menos un valor nulo\n",
        "datos = datos.dropna()"
      ],
      "metadata": {
        "id": "J7TeSEOJLovw"
      },
      "execution_count": null,
      "outputs": []
    },
    {
      "cell_type": "code",
      "source": [
        "print(datos.shape)"
      ],
      "metadata": {
        "colab": {
          "base_uri": "https://localhost:8080/"
        },
        "id": "iCFCX2a-wGVb",
        "outputId": "1e9da2ee-aeb3-4d0d-e246-f08018cfd7b6"
      },
      "execution_count": null,
      "outputs": [
        {
          "output_type": "stream",
          "name": "stdout",
          "text": [
            "(642269, 17)\n"
          ]
        }
      ]
    },
    {
      "cell_type": "markdown",
      "source": [
        "***Uso de One Hot***"
      ],
      "metadata": {
        "id": "l5ZhjKuAyfrY"
      }
    },
    {
      "cell_type": "markdown",
      "source": [
        "Convierte las columnas categóricas a codificación one-hot"
      ],
      "metadata": {
        "id": "A_jzj9t6yjE-"
      }
    },
    {
      "cell_type": "code",
      "source": [
        "def replace_columns_with_onehot(d, col):\n",
        "    def to_onehot(k):\n",
        "      values = np.unique(k)  # Encuentra los valores únicos (las categorías posibles)\n",
        "      r = np.r_[[np.argwhere(i==values)[0][0] for i in k]]  # Para cada valor en x, obtiene su índice en el array de valores únicos\n",
        "      return np.eye(len(values))[r].astype(int)  # Devuelve la matriz identidad con filas seleccionadas por esos índices\n",
        "\n",
        "    k = to_onehot(d[col].values)\n",
        "    r = pd.DataFrame(k, columns=[\"%s_%d\"%(col, i) for i in range(k.shape[1])], index=d.index).join(d)\n",
        "    del(r[col])\n",
        "    return r"
      ],
      "metadata": {
        "id": "4SCi0xRBNFrD"
      },
      "execution_count": null,
      "outputs": []
    },
    {
      "cell_type": "code",
      "source": [
        "datos = replace_columns_with_onehot(datos, \"FAMI_ESTRATOVIVIENDA\")\n",
        "datos = replace_columns_with_onehot(datos, \"ESTU_PRGM_ACADEMICO\")\n",
        "datos = replace_columns_with_onehot(datos, \"ESTU_PRGM_DEPARTAMENTO\")\n",
        "datos = replace_columns_with_onehot(datos, \"FAMI_TIENEINTERNET\")\n",
        "datos = replace_columns_with_onehot(datos, \"FAMI_EDUCACIONPADRE\")\n",
        "datos = replace_columns_with_onehot(datos, \"FAMI_TIENELAVADORA\")\n",
        "datos = replace_columns_with_onehot(datos, \"FAMI_TIENECOMPUTADOR\")\n",
        "datos = replace_columns_with_onehot(datos, \"FAMI_EDUCACIONMADRE\")\n",
        "datos = replace_columns_with_onehot(datos, \"FAMI_TIENEAUTOMOVIL\")\n",
        "datos = replace_columns_with_onehot(datos, \"RENDIMIENTO_GLOBAL\")\n",
        "datos = replace_columns_with_onehot(datos, \"ESTU_PAGOMATRICULAPROPIO\")"
      ],
      "metadata": {
        "id": "5itamYkaN0Tt"
      },
      "execution_count": null,
      "outputs": []
    },
    {
      "cell_type": "code",
      "source": [
        "datos.head()"
      ],
      "metadata": {
        "id": "zFQd6LyjvFKh"
      },
      "execution_count": null,
      "outputs": []
    },
    {
      "cell_type": "markdown",
      "source": [
        "**Normalizar datos**"
      ],
      "metadata": {
        "id": "gSCpH2wm1D50"
      }
    },
    {
      "cell_type": "code",
      "source": [
        "\n",
        "scaler = MinMaxScaler()\n",
        "cols_a_normalizar = [\n",
        "    \"ESTU_VALORMATRICULAUNIVERSIDAD\",\n",
        "    \"ESTU_HORASSEMANATRABAJA\",\n",
        "    \"coef_1\", \"coef_2\", \"coef_3\", \"coef_4\"\n",
        "]\n",
        "\n",
        "datos[cols_a_normalizar] = scaler.fit_transform(datos[cols_a_normalizar])\n"
      ],
      "metadata": {
        "id": "lpbnhhSHe4Fn"
      },
      "execution_count": null,
      "outputs": []
    },
    {
      "cell_type": "code",
      "source": [
        "datos[cols_a_normalizar]"
      ],
      "metadata": {
        "colab": {
          "base_uri": "https://localhost:8080/",
          "height": 424
        },
        "id": "6R_cgSQue75e",
        "outputId": "9de42a6e-5ec3-4ab0-8878-a273a50b8d40"
      },
      "execution_count": null,
      "outputs": [
        {
          "output_type": "execute_result",
          "data": {
            "text/plain": [
              "        ESTU_VALORMATRICULAUNIVERSIDAD  ESTU_HORASSEMANATRABAJA    coef_1  \\\n",
              "0                             0.774194                 0.142857  0.490107   \n",
              "1                             0.387097                 0.000000  0.473364   \n",
              "2                             0.387097                 1.000000  0.452055   \n",
              "3                             0.580645                 0.000000  0.738204   \n",
              "4                             0.387097                 0.714286  0.480974   \n",
              "...                                ...                      ...       ...   \n",
              "692495                        0.064516                 0.428571  0.360731   \n",
              "692496                        0.387097                 1.000000  0.477930   \n",
              "692497                        0.193548                 0.142857  0.435312   \n",
              "692498                        0.387097                 0.142857  0.200913   \n",
              "692499                        0.774194                 1.000000  0.741248   \n",
              "\n",
              "          coef_2    coef_3    coef_4  \n",
              "0       0.427105  0.968750  0.804217  \n",
              "1       0.441478  0.912500  0.795181  \n",
              "2       0.439425  0.953125  0.795181  \n",
              "3       0.353183  0.787500  0.572289  \n",
              "4       0.476386  0.890625  0.885542  \n",
              "...          ...       ...       ...  \n",
              "692495  0.556468  0.846875  0.936747  \n",
              "692496  0.492813  0.868750  0.783133  \n",
              "692497  0.492813  0.981250  0.864458  \n",
              "692498  0.874743  0.815625  0.987952  \n",
              "692499  0.369610  0.784375  0.563253  \n",
              "\n",
              "[642269 rows x 6 columns]"
            ],
            "text/html": [
              "\n",
              "  <div id=\"df-72e03dc4-3a94-48c0-aa5c-90f4b0fd5be3\" class=\"colab-df-container\">\n",
              "    <div>\n",
              "<style scoped>\n",
              "    .dataframe tbody tr th:only-of-type {\n",
              "        vertical-align: middle;\n",
              "    }\n",
              "\n",
              "    .dataframe tbody tr th {\n",
              "        vertical-align: top;\n",
              "    }\n",
              "\n",
              "    .dataframe thead th {\n",
              "        text-align: right;\n",
              "    }\n",
              "</style>\n",
              "<table border=\"1\" class=\"dataframe\">\n",
              "  <thead>\n",
              "    <tr style=\"text-align: right;\">\n",
              "      <th></th>\n",
              "      <th>ESTU_VALORMATRICULAUNIVERSIDAD</th>\n",
              "      <th>ESTU_HORASSEMANATRABAJA</th>\n",
              "      <th>coef_1</th>\n",
              "      <th>coef_2</th>\n",
              "      <th>coef_3</th>\n",
              "      <th>coef_4</th>\n",
              "    </tr>\n",
              "  </thead>\n",
              "  <tbody>\n",
              "    <tr>\n",
              "      <th>0</th>\n",
              "      <td>0.774194</td>\n",
              "      <td>0.142857</td>\n",
              "      <td>0.490107</td>\n",
              "      <td>0.427105</td>\n",
              "      <td>0.968750</td>\n",
              "      <td>0.804217</td>\n",
              "    </tr>\n",
              "    <tr>\n",
              "      <th>1</th>\n",
              "      <td>0.387097</td>\n",
              "      <td>0.000000</td>\n",
              "      <td>0.473364</td>\n",
              "      <td>0.441478</td>\n",
              "      <td>0.912500</td>\n",
              "      <td>0.795181</td>\n",
              "    </tr>\n",
              "    <tr>\n",
              "      <th>2</th>\n",
              "      <td>0.387097</td>\n",
              "      <td>1.000000</td>\n",
              "      <td>0.452055</td>\n",
              "      <td>0.439425</td>\n",
              "      <td>0.953125</td>\n",
              "      <td>0.795181</td>\n",
              "    </tr>\n",
              "    <tr>\n",
              "      <th>3</th>\n",
              "      <td>0.580645</td>\n",
              "      <td>0.000000</td>\n",
              "      <td>0.738204</td>\n",
              "      <td>0.353183</td>\n",
              "      <td>0.787500</td>\n",
              "      <td>0.572289</td>\n",
              "    </tr>\n",
              "    <tr>\n",
              "      <th>4</th>\n",
              "      <td>0.387097</td>\n",
              "      <td>0.714286</td>\n",
              "      <td>0.480974</td>\n",
              "      <td>0.476386</td>\n",
              "      <td>0.890625</td>\n",
              "      <td>0.885542</td>\n",
              "    </tr>\n",
              "    <tr>\n",
              "      <th>...</th>\n",
              "      <td>...</td>\n",
              "      <td>...</td>\n",
              "      <td>...</td>\n",
              "      <td>...</td>\n",
              "      <td>...</td>\n",
              "      <td>...</td>\n",
              "    </tr>\n",
              "    <tr>\n",
              "      <th>692495</th>\n",
              "      <td>0.064516</td>\n",
              "      <td>0.428571</td>\n",
              "      <td>0.360731</td>\n",
              "      <td>0.556468</td>\n",
              "      <td>0.846875</td>\n",
              "      <td>0.936747</td>\n",
              "    </tr>\n",
              "    <tr>\n",
              "      <th>692496</th>\n",
              "      <td>0.387097</td>\n",
              "      <td>1.000000</td>\n",
              "      <td>0.477930</td>\n",
              "      <td>0.492813</td>\n",
              "      <td>0.868750</td>\n",
              "      <td>0.783133</td>\n",
              "    </tr>\n",
              "    <tr>\n",
              "      <th>692497</th>\n",
              "      <td>0.193548</td>\n",
              "      <td>0.142857</td>\n",
              "      <td>0.435312</td>\n",
              "      <td>0.492813</td>\n",
              "      <td>0.981250</td>\n",
              "      <td>0.864458</td>\n",
              "    </tr>\n",
              "    <tr>\n",
              "      <th>692498</th>\n",
              "      <td>0.387097</td>\n",
              "      <td>0.142857</td>\n",
              "      <td>0.200913</td>\n",
              "      <td>0.874743</td>\n",
              "      <td>0.815625</td>\n",
              "      <td>0.987952</td>\n",
              "    </tr>\n",
              "    <tr>\n",
              "      <th>692499</th>\n",
              "      <td>0.774194</td>\n",
              "      <td>1.000000</td>\n",
              "      <td>0.741248</td>\n",
              "      <td>0.369610</td>\n",
              "      <td>0.784375</td>\n",
              "      <td>0.563253</td>\n",
              "    </tr>\n",
              "  </tbody>\n",
              "</table>\n",
              "<p>642269 rows × 6 columns</p>\n",
              "</div>\n",
              "    <div class=\"colab-df-buttons\">\n",
              "\n",
              "  <div class=\"colab-df-container\">\n",
              "    <button class=\"colab-df-convert\" onclick=\"convertToInteractive('df-72e03dc4-3a94-48c0-aa5c-90f4b0fd5be3')\"\n",
              "            title=\"Convert this dataframe to an interactive table.\"\n",
              "            style=\"display:none;\">\n",
              "\n",
              "  <svg xmlns=\"http://www.w3.org/2000/svg\" height=\"24px\" viewBox=\"0 -960 960 960\">\n",
              "    <path d=\"M120-120v-720h720v720H120Zm60-500h600v-160H180v160Zm220 220h160v-160H400v160Zm0 220h160v-160H400v160ZM180-400h160v-160H180v160Zm440 0h160v-160H620v160ZM180-180h160v-160H180v160Zm440 0h160v-160H620v160Z\"/>\n",
              "  </svg>\n",
              "    </button>\n",
              "\n",
              "  <style>\n",
              "    .colab-df-container {\n",
              "      display:flex;\n",
              "      gap: 12px;\n",
              "    }\n",
              "\n",
              "    .colab-df-convert {\n",
              "      background-color: #E8F0FE;\n",
              "      border: none;\n",
              "      border-radius: 50%;\n",
              "      cursor: pointer;\n",
              "      display: none;\n",
              "      fill: #1967D2;\n",
              "      height: 32px;\n",
              "      padding: 0 0 0 0;\n",
              "      width: 32px;\n",
              "    }\n",
              "\n",
              "    .colab-df-convert:hover {\n",
              "      background-color: #E2EBFA;\n",
              "      box-shadow: 0px 1px 2px rgba(60, 64, 67, 0.3), 0px 1px 3px 1px rgba(60, 64, 67, 0.15);\n",
              "      fill: #174EA6;\n",
              "    }\n",
              "\n",
              "    .colab-df-buttons div {\n",
              "      margin-bottom: 4px;\n",
              "    }\n",
              "\n",
              "    [theme=dark] .colab-df-convert {\n",
              "      background-color: #3B4455;\n",
              "      fill: #D2E3FC;\n",
              "    }\n",
              "\n",
              "    [theme=dark] .colab-df-convert:hover {\n",
              "      background-color: #434B5C;\n",
              "      box-shadow: 0px 1px 3px 1px rgba(0, 0, 0, 0.15);\n",
              "      filter: drop-shadow(0px 1px 2px rgba(0, 0, 0, 0.3));\n",
              "      fill: #FFFFFF;\n",
              "    }\n",
              "  </style>\n",
              "\n",
              "    <script>\n",
              "      const buttonEl =\n",
              "        document.querySelector('#df-72e03dc4-3a94-48c0-aa5c-90f4b0fd5be3 button.colab-df-convert');\n",
              "      buttonEl.style.display =\n",
              "        google.colab.kernel.accessAllowed ? 'block' : 'none';\n",
              "\n",
              "      async function convertToInteractive(key) {\n",
              "        const element = document.querySelector('#df-72e03dc4-3a94-48c0-aa5c-90f4b0fd5be3');\n",
              "        const dataTable =\n",
              "          await google.colab.kernel.invokeFunction('convertToInteractive',\n",
              "                                                    [key], {});\n",
              "        if (!dataTable) return;\n",
              "\n",
              "        const docLinkHtml = 'Like what you see? Visit the ' +\n",
              "          '<a target=\"_blank\" href=https://colab.research.google.com/notebooks/data_table.ipynb>data table notebook</a>'\n",
              "          + ' to learn more about interactive tables.';\n",
              "        element.innerHTML = '';\n",
              "        dataTable['output_type'] = 'display_data';\n",
              "        await google.colab.output.renderOutput(dataTable, element);\n",
              "        const docLink = document.createElement('div');\n",
              "        docLink.innerHTML = docLinkHtml;\n",
              "        element.appendChild(docLink);\n",
              "      }\n",
              "    </script>\n",
              "  </div>\n",
              "\n",
              "\n",
              "    <div id=\"df-c5fe4e79-99b8-420f-b735-a0bd5e5b62fc\">\n",
              "      <button class=\"colab-df-quickchart\" onclick=\"quickchart('df-c5fe4e79-99b8-420f-b735-a0bd5e5b62fc')\"\n",
              "                title=\"Suggest charts\"\n",
              "                style=\"display:none;\">\n",
              "\n",
              "<svg xmlns=\"http://www.w3.org/2000/svg\" height=\"24px\"viewBox=\"0 0 24 24\"\n",
              "     width=\"24px\">\n",
              "    <g>\n",
              "        <path d=\"M19 3H5c-1.1 0-2 .9-2 2v14c0 1.1.9 2 2 2h14c1.1 0 2-.9 2-2V5c0-1.1-.9-2-2-2zM9 17H7v-7h2v7zm4 0h-2V7h2v10zm4 0h-2v-4h2v4z\"/>\n",
              "    </g>\n",
              "</svg>\n",
              "      </button>\n",
              "\n",
              "<style>\n",
              "  .colab-df-quickchart {\n",
              "      --bg-color: #E8F0FE;\n",
              "      --fill-color: #1967D2;\n",
              "      --hover-bg-color: #E2EBFA;\n",
              "      --hover-fill-color: #174EA6;\n",
              "      --disabled-fill-color: #AAA;\n",
              "      --disabled-bg-color: #DDD;\n",
              "  }\n",
              "\n",
              "  [theme=dark] .colab-df-quickchart {\n",
              "      --bg-color: #3B4455;\n",
              "      --fill-color: #D2E3FC;\n",
              "      --hover-bg-color: #434B5C;\n",
              "      --hover-fill-color: #FFFFFF;\n",
              "      --disabled-bg-color: #3B4455;\n",
              "      --disabled-fill-color: #666;\n",
              "  }\n",
              "\n",
              "  .colab-df-quickchart {\n",
              "    background-color: var(--bg-color);\n",
              "    border: none;\n",
              "    border-radius: 50%;\n",
              "    cursor: pointer;\n",
              "    display: none;\n",
              "    fill: var(--fill-color);\n",
              "    height: 32px;\n",
              "    padding: 0;\n",
              "    width: 32px;\n",
              "  }\n",
              "\n",
              "  .colab-df-quickchart:hover {\n",
              "    background-color: var(--hover-bg-color);\n",
              "    box-shadow: 0 1px 2px rgba(60, 64, 67, 0.3), 0 1px 3px 1px rgba(60, 64, 67, 0.15);\n",
              "    fill: var(--button-hover-fill-color);\n",
              "  }\n",
              "\n",
              "  .colab-df-quickchart-complete:disabled,\n",
              "  .colab-df-quickchart-complete:disabled:hover {\n",
              "    background-color: var(--disabled-bg-color);\n",
              "    fill: var(--disabled-fill-color);\n",
              "    box-shadow: none;\n",
              "  }\n",
              "\n",
              "  .colab-df-spinner {\n",
              "    border: 2px solid var(--fill-color);\n",
              "    border-color: transparent;\n",
              "    border-bottom-color: var(--fill-color);\n",
              "    animation:\n",
              "      spin 1s steps(1) infinite;\n",
              "  }\n",
              "\n",
              "  @keyframes spin {\n",
              "    0% {\n",
              "      border-color: transparent;\n",
              "      border-bottom-color: var(--fill-color);\n",
              "      border-left-color: var(--fill-color);\n",
              "    }\n",
              "    20% {\n",
              "      border-color: transparent;\n",
              "      border-left-color: var(--fill-color);\n",
              "      border-top-color: var(--fill-color);\n",
              "    }\n",
              "    30% {\n",
              "      border-color: transparent;\n",
              "      border-left-color: var(--fill-color);\n",
              "      border-top-color: var(--fill-color);\n",
              "      border-right-color: var(--fill-color);\n",
              "    }\n",
              "    40% {\n",
              "      border-color: transparent;\n",
              "      border-right-color: var(--fill-color);\n",
              "      border-top-color: var(--fill-color);\n",
              "    }\n",
              "    60% {\n",
              "      border-color: transparent;\n",
              "      border-right-color: var(--fill-color);\n",
              "    }\n",
              "    80% {\n",
              "      border-color: transparent;\n",
              "      border-right-color: var(--fill-color);\n",
              "      border-bottom-color: var(--fill-color);\n",
              "    }\n",
              "    90% {\n",
              "      border-color: transparent;\n",
              "      border-bottom-color: var(--fill-color);\n",
              "    }\n",
              "  }\n",
              "</style>\n",
              "\n",
              "      <script>\n",
              "        async function quickchart(key) {\n",
              "          const quickchartButtonEl =\n",
              "            document.querySelector('#' + key + ' button');\n",
              "          quickchartButtonEl.disabled = true;  // To prevent multiple clicks.\n",
              "          quickchartButtonEl.classList.add('colab-df-spinner');\n",
              "          try {\n",
              "            const charts = await google.colab.kernel.invokeFunction(\n",
              "                'suggestCharts', [key], {});\n",
              "          } catch (error) {\n",
              "            console.error('Error during call to suggestCharts:', error);\n",
              "          }\n",
              "          quickchartButtonEl.classList.remove('colab-df-spinner');\n",
              "          quickchartButtonEl.classList.add('colab-df-quickchart-complete');\n",
              "        }\n",
              "        (() => {\n",
              "          let quickchartButtonEl =\n",
              "            document.querySelector('#df-c5fe4e79-99b8-420f-b735-a0bd5e5b62fc button');\n",
              "          quickchartButtonEl.style.display =\n",
              "            google.colab.kernel.accessAllowed ? 'block' : 'none';\n",
              "        })();\n",
              "      </script>\n",
              "    </div>\n",
              "\n",
              "    </div>\n",
              "  </div>\n"
            ],
            "application/vnd.google.colaboratory.intrinsic+json": {
              "type": "dataframe"
            }
          },
          "metadata": {},
          "execution_count": 21
        }
      ]
    },
    {
      "cell_type": "code",
      "source": [
        "datos.head()"
      ],
      "metadata": {
        "colab": {
          "base_uri": "https://localhost:8080/",
          "height": 256
        },
        "id": "BViTR2aEi3Oy",
        "outputId": "84ce3055-7fd5-41b7-e461-f80b56c3c75a"
      },
      "execution_count": null,
      "outputs": [
        {
          "output_type": "execute_result",
          "data": {
            "text/plain": [
              "   ESTU_PAGOMATRICULAPROPIO_0  ESTU_PAGOMATRICULAPROPIO_1  \\\n",
              "0                           1                           0   \n",
              "1                           1                           0   \n",
              "2                           1                           0   \n",
              "3                           1                           0   \n",
              "4                           1                           0   \n",
              "\n",
              "   RENDIMIENTO_GLOBAL_0  RENDIMIENTO_GLOBAL_1  RENDIMIENTO_GLOBAL_2  \\\n",
              "0                     0                     0                     1   \n",
              "1                     0                     1                     0   \n",
              "2                     0                     1                     0   \n",
              "3                     1                     0                     0   \n",
              "4                     0                     0                     0   \n",
              "\n",
              "   RENDIMIENTO_GLOBAL_3  FAMI_TIENEAUTOMOVIL_0  FAMI_TIENEAUTOMOVIL_1  \\\n",
              "0                     0                      0                      1   \n",
              "1                     0                      1                      0   \n",
              "2                     0                      1                      0   \n",
              "3                     0                      1                      0   \n",
              "4                     1                      0                      1   \n",
              "\n",
              "   FAMI_EDUCACIONMADRE_0  FAMI_EDUCACIONMADRE_1  ...  FAMI_ESTRATOVIVIENDA_3  \\\n",
              "0                      0                      0  ...                       0   \n",
              "1                      0                      0  ...                       0   \n",
              "2                      0                      0  ...                       0   \n",
              "3                      0                      0  ...                       1   \n",
              "4                      0                      0  ...                       0   \n",
              "\n",
              "   FAMI_ESTRATOVIVIENDA_4  FAMI_ESTRATOVIVIENDA_5  FAMI_ESTRATOVIVIENDA_6  \\\n",
              "0                       0                       0                       0   \n",
              "1                       0                       0                       0   \n",
              "2                       0                       0                       0   \n",
              "3                       0                       0                       0   \n",
              "4                       0                       0                       0   \n",
              "\n",
              "   ESTU_VALORMATRICULAUNIVERSIDAD  ESTU_HORASSEMANATRABAJA    coef_1  \\\n",
              "0                        0.774194                 0.142857  0.490107   \n",
              "1                        0.387097                 0.000000  0.473364   \n",
              "2                        0.387097                 1.000000  0.452055   \n",
              "3                        0.580645                 0.000000  0.738204   \n",
              "4                        0.387097                 0.714286  0.480974   \n",
              "\n",
              "     coef_2    coef_3    coef_4  \n",
              "0  0.427105  0.968750  0.804217  \n",
              "1  0.441478  0.912500  0.795181  \n",
              "2  0.439425  0.953125  0.795181  \n",
              "3  0.353183  0.787500  0.572289  \n",
              "4  0.476386  0.890625  0.885542  \n",
              "\n",
              "[5 rows x 1022 columns]"
            ],
            "text/html": [
              "\n",
              "  <div id=\"df-9567ef2d-7271-4934-88c2-c9d9dcadef8c\" class=\"colab-df-container\">\n",
              "    <div>\n",
              "<style scoped>\n",
              "    .dataframe tbody tr th:only-of-type {\n",
              "        vertical-align: middle;\n",
              "    }\n",
              "\n",
              "    .dataframe tbody tr th {\n",
              "        vertical-align: top;\n",
              "    }\n",
              "\n",
              "    .dataframe thead th {\n",
              "        text-align: right;\n",
              "    }\n",
              "</style>\n",
              "<table border=\"1\" class=\"dataframe\">\n",
              "  <thead>\n",
              "    <tr style=\"text-align: right;\">\n",
              "      <th></th>\n",
              "      <th>ESTU_PAGOMATRICULAPROPIO_0</th>\n",
              "      <th>ESTU_PAGOMATRICULAPROPIO_1</th>\n",
              "      <th>RENDIMIENTO_GLOBAL_0</th>\n",
              "      <th>RENDIMIENTO_GLOBAL_1</th>\n",
              "      <th>RENDIMIENTO_GLOBAL_2</th>\n",
              "      <th>RENDIMIENTO_GLOBAL_3</th>\n",
              "      <th>FAMI_TIENEAUTOMOVIL_0</th>\n",
              "      <th>FAMI_TIENEAUTOMOVIL_1</th>\n",
              "      <th>FAMI_EDUCACIONMADRE_0</th>\n",
              "      <th>FAMI_EDUCACIONMADRE_1</th>\n",
              "      <th>...</th>\n",
              "      <th>FAMI_ESTRATOVIVIENDA_3</th>\n",
              "      <th>FAMI_ESTRATOVIVIENDA_4</th>\n",
              "      <th>FAMI_ESTRATOVIVIENDA_5</th>\n",
              "      <th>FAMI_ESTRATOVIVIENDA_6</th>\n",
              "      <th>ESTU_VALORMATRICULAUNIVERSIDAD</th>\n",
              "      <th>ESTU_HORASSEMANATRABAJA</th>\n",
              "      <th>coef_1</th>\n",
              "      <th>coef_2</th>\n",
              "      <th>coef_3</th>\n",
              "      <th>coef_4</th>\n",
              "    </tr>\n",
              "  </thead>\n",
              "  <tbody>\n",
              "    <tr>\n",
              "      <th>0</th>\n",
              "      <td>1</td>\n",
              "      <td>0</td>\n",
              "      <td>0</td>\n",
              "      <td>0</td>\n",
              "      <td>1</td>\n",
              "      <td>0</td>\n",
              "      <td>0</td>\n",
              "      <td>1</td>\n",
              "      <td>0</td>\n",
              "      <td>0</td>\n",
              "      <td>...</td>\n",
              "      <td>0</td>\n",
              "      <td>0</td>\n",
              "      <td>0</td>\n",
              "      <td>0</td>\n",
              "      <td>0.774194</td>\n",
              "      <td>0.142857</td>\n",
              "      <td>0.490107</td>\n",
              "      <td>0.427105</td>\n",
              "      <td>0.968750</td>\n",
              "      <td>0.804217</td>\n",
              "    </tr>\n",
              "    <tr>\n",
              "      <th>1</th>\n",
              "      <td>1</td>\n",
              "      <td>0</td>\n",
              "      <td>0</td>\n",
              "      <td>1</td>\n",
              "      <td>0</td>\n",
              "      <td>0</td>\n",
              "      <td>1</td>\n",
              "      <td>0</td>\n",
              "      <td>0</td>\n",
              "      <td>0</td>\n",
              "      <td>...</td>\n",
              "      <td>0</td>\n",
              "      <td>0</td>\n",
              "      <td>0</td>\n",
              "      <td>0</td>\n",
              "      <td>0.387097</td>\n",
              "      <td>0.000000</td>\n",
              "      <td>0.473364</td>\n",
              "      <td>0.441478</td>\n",
              "      <td>0.912500</td>\n",
              "      <td>0.795181</td>\n",
              "    </tr>\n",
              "    <tr>\n",
              "      <th>2</th>\n",
              "      <td>1</td>\n",
              "      <td>0</td>\n",
              "      <td>0</td>\n",
              "      <td>1</td>\n",
              "      <td>0</td>\n",
              "      <td>0</td>\n",
              "      <td>1</td>\n",
              "      <td>0</td>\n",
              "      <td>0</td>\n",
              "      <td>0</td>\n",
              "      <td>...</td>\n",
              "      <td>0</td>\n",
              "      <td>0</td>\n",
              "      <td>0</td>\n",
              "      <td>0</td>\n",
              "      <td>0.387097</td>\n",
              "      <td>1.000000</td>\n",
              "      <td>0.452055</td>\n",
              "      <td>0.439425</td>\n",
              "      <td>0.953125</td>\n",
              "      <td>0.795181</td>\n",
              "    </tr>\n",
              "    <tr>\n",
              "      <th>3</th>\n",
              "      <td>1</td>\n",
              "      <td>0</td>\n",
              "      <td>1</td>\n",
              "      <td>0</td>\n",
              "      <td>0</td>\n",
              "      <td>0</td>\n",
              "      <td>1</td>\n",
              "      <td>0</td>\n",
              "      <td>0</td>\n",
              "      <td>0</td>\n",
              "      <td>...</td>\n",
              "      <td>1</td>\n",
              "      <td>0</td>\n",
              "      <td>0</td>\n",
              "      <td>0</td>\n",
              "      <td>0.580645</td>\n",
              "      <td>0.000000</td>\n",
              "      <td>0.738204</td>\n",
              "      <td>0.353183</td>\n",
              "      <td>0.787500</td>\n",
              "      <td>0.572289</td>\n",
              "    </tr>\n",
              "    <tr>\n",
              "      <th>4</th>\n",
              "      <td>1</td>\n",
              "      <td>0</td>\n",
              "      <td>0</td>\n",
              "      <td>0</td>\n",
              "      <td>0</td>\n",
              "      <td>1</td>\n",
              "      <td>0</td>\n",
              "      <td>1</td>\n",
              "      <td>0</td>\n",
              "      <td>0</td>\n",
              "      <td>...</td>\n",
              "      <td>0</td>\n",
              "      <td>0</td>\n",
              "      <td>0</td>\n",
              "      <td>0</td>\n",
              "      <td>0.387097</td>\n",
              "      <td>0.714286</td>\n",
              "      <td>0.480974</td>\n",
              "      <td>0.476386</td>\n",
              "      <td>0.890625</td>\n",
              "      <td>0.885542</td>\n",
              "    </tr>\n",
              "  </tbody>\n",
              "</table>\n",
              "<p>5 rows × 1022 columns</p>\n",
              "</div>\n",
              "    <div class=\"colab-df-buttons\">\n",
              "\n",
              "  <div class=\"colab-df-container\">\n",
              "    <button class=\"colab-df-convert\" onclick=\"convertToInteractive('df-9567ef2d-7271-4934-88c2-c9d9dcadef8c')\"\n",
              "            title=\"Convert this dataframe to an interactive table.\"\n",
              "            style=\"display:none;\">\n",
              "\n",
              "  <svg xmlns=\"http://www.w3.org/2000/svg\" height=\"24px\" viewBox=\"0 -960 960 960\">\n",
              "    <path d=\"M120-120v-720h720v720H120Zm60-500h600v-160H180v160Zm220 220h160v-160H400v160Zm0 220h160v-160H400v160ZM180-400h160v-160H180v160Zm440 0h160v-160H620v160ZM180-180h160v-160H180v160Zm440 0h160v-160H620v160Z\"/>\n",
              "  </svg>\n",
              "    </button>\n",
              "\n",
              "  <style>\n",
              "    .colab-df-container {\n",
              "      display:flex;\n",
              "      gap: 12px;\n",
              "    }\n",
              "\n",
              "    .colab-df-convert {\n",
              "      background-color: #E8F0FE;\n",
              "      border: none;\n",
              "      border-radius: 50%;\n",
              "      cursor: pointer;\n",
              "      display: none;\n",
              "      fill: #1967D2;\n",
              "      height: 32px;\n",
              "      padding: 0 0 0 0;\n",
              "      width: 32px;\n",
              "    }\n",
              "\n",
              "    .colab-df-convert:hover {\n",
              "      background-color: #E2EBFA;\n",
              "      box-shadow: 0px 1px 2px rgba(60, 64, 67, 0.3), 0px 1px 3px 1px rgba(60, 64, 67, 0.15);\n",
              "      fill: #174EA6;\n",
              "    }\n",
              "\n",
              "    .colab-df-buttons div {\n",
              "      margin-bottom: 4px;\n",
              "    }\n",
              "\n",
              "    [theme=dark] .colab-df-convert {\n",
              "      background-color: #3B4455;\n",
              "      fill: #D2E3FC;\n",
              "    }\n",
              "\n",
              "    [theme=dark] .colab-df-convert:hover {\n",
              "      background-color: #434B5C;\n",
              "      box-shadow: 0px 1px 3px 1px rgba(0, 0, 0, 0.15);\n",
              "      filter: drop-shadow(0px 1px 2px rgba(0, 0, 0, 0.3));\n",
              "      fill: #FFFFFF;\n",
              "    }\n",
              "  </style>\n",
              "\n",
              "    <script>\n",
              "      const buttonEl =\n",
              "        document.querySelector('#df-9567ef2d-7271-4934-88c2-c9d9dcadef8c button.colab-df-convert');\n",
              "      buttonEl.style.display =\n",
              "        google.colab.kernel.accessAllowed ? 'block' : 'none';\n",
              "\n",
              "      async function convertToInteractive(key) {\n",
              "        const element = document.querySelector('#df-9567ef2d-7271-4934-88c2-c9d9dcadef8c');\n",
              "        const dataTable =\n",
              "          await google.colab.kernel.invokeFunction('convertToInteractive',\n",
              "                                                    [key], {});\n",
              "        if (!dataTable) return;\n",
              "\n",
              "        const docLinkHtml = 'Like what you see? Visit the ' +\n",
              "          '<a target=\"_blank\" href=https://colab.research.google.com/notebooks/data_table.ipynb>data table notebook</a>'\n",
              "          + ' to learn more about interactive tables.';\n",
              "        element.innerHTML = '';\n",
              "        dataTable['output_type'] = 'display_data';\n",
              "        await google.colab.output.renderOutput(dataTable, element);\n",
              "        const docLink = document.createElement('div');\n",
              "        docLink.innerHTML = docLinkHtml;\n",
              "        element.appendChild(docLink);\n",
              "      }\n",
              "    </script>\n",
              "  </div>\n",
              "\n",
              "\n",
              "    <div id=\"df-be7ba7a7-2384-4fd5-82d5-b28a700ec816\">\n",
              "      <button class=\"colab-df-quickchart\" onclick=\"quickchart('df-be7ba7a7-2384-4fd5-82d5-b28a700ec816')\"\n",
              "                title=\"Suggest charts\"\n",
              "                style=\"display:none;\">\n",
              "\n",
              "<svg xmlns=\"http://www.w3.org/2000/svg\" height=\"24px\"viewBox=\"0 0 24 24\"\n",
              "     width=\"24px\">\n",
              "    <g>\n",
              "        <path d=\"M19 3H5c-1.1 0-2 .9-2 2v14c0 1.1.9 2 2 2h14c1.1 0 2-.9 2-2V5c0-1.1-.9-2-2-2zM9 17H7v-7h2v7zm4 0h-2V7h2v10zm4 0h-2v-4h2v4z\"/>\n",
              "    </g>\n",
              "</svg>\n",
              "      </button>\n",
              "\n",
              "<style>\n",
              "  .colab-df-quickchart {\n",
              "      --bg-color: #E8F0FE;\n",
              "      --fill-color: #1967D2;\n",
              "      --hover-bg-color: #E2EBFA;\n",
              "      --hover-fill-color: #174EA6;\n",
              "      --disabled-fill-color: #AAA;\n",
              "      --disabled-bg-color: #DDD;\n",
              "  }\n",
              "\n",
              "  [theme=dark] .colab-df-quickchart {\n",
              "      --bg-color: #3B4455;\n",
              "      --fill-color: #D2E3FC;\n",
              "      --hover-bg-color: #434B5C;\n",
              "      --hover-fill-color: #FFFFFF;\n",
              "      --disabled-bg-color: #3B4455;\n",
              "      --disabled-fill-color: #666;\n",
              "  }\n",
              "\n",
              "  .colab-df-quickchart {\n",
              "    background-color: var(--bg-color);\n",
              "    border: none;\n",
              "    border-radius: 50%;\n",
              "    cursor: pointer;\n",
              "    display: none;\n",
              "    fill: var(--fill-color);\n",
              "    height: 32px;\n",
              "    padding: 0;\n",
              "    width: 32px;\n",
              "  }\n",
              "\n",
              "  .colab-df-quickchart:hover {\n",
              "    background-color: var(--hover-bg-color);\n",
              "    box-shadow: 0 1px 2px rgba(60, 64, 67, 0.3), 0 1px 3px 1px rgba(60, 64, 67, 0.15);\n",
              "    fill: var(--button-hover-fill-color);\n",
              "  }\n",
              "\n",
              "  .colab-df-quickchart-complete:disabled,\n",
              "  .colab-df-quickchart-complete:disabled:hover {\n",
              "    background-color: var(--disabled-bg-color);\n",
              "    fill: var(--disabled-fill-color);\n",
              "    box-shadow: none;\n",
              "  }\n",
              "\n",
              "  .colab-df-spinner {\n",
              "    border: 2px solid var(--fill-color);\n",
              "    border-color: transparent;\n",
              "    border-bottom-color: var(--fill-color);\n",
              "    animation:\n",
              "      spin 1s steps(1) infinite;\n",
              "  }\n",
              "\n",
              "  @keyframes spin {\n",
              "    0% {\n",
              "      border-color: transparent;\n",
              "      border-bottom-color: var(--fill-color);\n",
              "      border-left-color: var(--fill-color);\n",
              "    }\n",
              "    20% {\n",
              "      border-color: transparent;\n",
              "      border-left-color: var(--fill-color);\n",
              "      border-top-color: var(--fill-color);\n",
              "    }\n",
              "    30% {\n",
              "      border-color: transparent;\n",
              "      border-left-color: var(--fill-color);\n",
              "      border-top-color: var(--fill-color);\n",
              "      border-right-color: var(--fill-color);\n",
              "    }\n",
              "    40% {\n",
              "      border-color: transparent;\n",
              "      border-right-color: var(--fill-color);\n",
              "      border-top-color: var(--fill-color);\n",
              "    }\n",
              "    60% {\n",
              "      border-color: transparent;\n",
              "      border-right-color: var(--fill-color);\n",
              "    }\n",
              "    80% {\n",
              "      border-color: transparent;\n",
              "      border-right-color: var(--fill-color);\n",
              "      border-bottom-color: var(--fill-color);\n",
              "    }\n",
              "    90% {\n",
              "      border-color: transparent;\n",
              "      border-bottom-color: var(--fill-color);\n",
              "    }\n",
              "  }\n",
              "</style>\n",
              "\n",
              "      <script>\n",
              "        async function quickchart(key) {\n",
              "          const quickchartButtonEl =\n",
              "            document.querySelector('#' + key + ' button');\n",
              "          quickchartButtonEl.disabled = true;  // To prevent multiple clicks.\n",
              "          quickchartButtonEl.classList.add('colab-df-spinner');\n",
              "          try {\n",
              "            const charts = await google.colab.kernel.invokeFunction(\n",
              "                'suggestCharts', [key], {});\n",
              "          } catch (error) {\n",
              "            console.error('Error during call to suggestCharts:', error);\n",
              "          }\n",
              "          quickchartButtonEl.classList.remove('colab-df-spinner');\n",
              "          quickchartButtonEl.classList.add('colab-df-quickchart-complete');\n",
              "        }\n",
              "        (() => {\n",
              "          let quickchartButtonEl =\n",
              "            document.querySelector('#df-be7ba7a7-2384-4fd5-82d5-b28a700ec816 button');\n",
              "          quickchartButtonEl.style.display =\n",
              "            google.colab.kernel.accessAllowed ? 'block' : 'none';\n",
              "        })();\n",
              "      </script>\n",
              "    </div>\n",
              "\n",
              "    </div>\n",
              "  </div>\n"
            ],
            "application/vnd.google.colaboratory.intrinsic+json": {
              "type": "dataframe",
              "variable_name": "datos"
            }
          },
          "metadata": {},
          "execution_count": 22
        }
      ]
    }
  ]
}