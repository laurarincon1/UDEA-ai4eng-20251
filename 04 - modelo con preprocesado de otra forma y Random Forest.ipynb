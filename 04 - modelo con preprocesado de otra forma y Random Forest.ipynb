{
  "nbformat": 4,
  "nbformat_minor": 0,
  "metadata": {
    "colab": {
      "provenance": [],
      "authorship_tag": "ABX9TyO4E7xFLluLFBRBGUIgP8CP",
      "include_colab_link": true
    },
    "kernelspec": {
      "name": "python3",
      "display_name": "Python 3"
    },
    "language_info": {
      "name": "python"
    }
  },
  "cells": [
    {
      "cell_type": "markdown",
      "metadata": {
        "id": "view-in-github",
        "colab_type": "text"
      },
      "source": [
        "<a href=\"https://colab.research.google.com/github/laurarincon1/UDEA-ai4eng-20251/blob/main/04%20-%20modelo%20con%20preprocesado%20de%20otra%20forma%20y%20Random%20Forest.ipynb\" target=\"_parent\"><img src=\"https://colab.research.google.com/assets/colab-badge.svg\" alt=\"Open In Colab\"/></a>"
      ]
    },
    {
      "cell_type": "markdown",
      "source": [
        "#Bibliotecas"
      ],
      "metadata": {
        "id": "m-UW-G6jCsB5"
      }
    },
    {
      "cell_type": "code",
      "source": [
        "import pandas as pd\n",
        "import os\n",
        "from sklearn.model_selection import train_test_split\n",
        "from sklearn.preprocessing import StandardScaler\n",
        "from sklearn.svm import SVC\n",
        "from sklearn.metrics import accuracy_score"
      ],
      "metadata": {
        "id": "wx_k75HMvBnN"
      },
      "execution_count": null,
      "outputs": []
    },
    {
      "cell_type": "markdown",
      "source": [
        "#Carga de datos"
      ],
      "metadata": {
        "id": "2vCc__RbC1An"
      }
    },
    {
      "cell_type": "markdown",
      "source": [
        "Se usa  el archivo kaggle.json para la carga de datos"
      ],
      "metadata": {
        "id": "YZ0kh8XRDQpd"
      }
    },
    {
      "cell_type": "code",
      "execution_count": null,
      "metadata": {
        "colab": {
          "base_uri": "https://localhost:8080/"
        },
        "id": "6JCHVQCetfrr",
        "outputId": "7916bd84-991a-471c-9019-ae9e9ed340c3"
      },
      "outputs": [
        {
          "output_type": "stream",
          "name": "stdout",
          "text": [
            "Warning: Your Kaggle API key is readable by other users on this system! To fix this, you can run 'chmod 600 ./kaggle.json'\n",
            "Downloading udea-ai-4-eng-20251-pruebas-saber-pro-colombia.zip to /content\n",
            "  0% 0.00/29.9M [00:00<?, ?B/s]\n",
            "100% 29.9M/29.9M [00:00<00:00, 2.09GB/s]\n",
            "Archive:  udea-ai-4-eng-20251-pruebas-saber-pro-colombia.zip\n",
            "  inflating: submission_example.csv  \n",
            "  inflating: test.csv                \n",
            "  inflating: train.csv               \n"
          ]
        }
      ],
      "source": [
        "os.environ['KAGGLE_CONFIG_DIR'] = '.' # Establece la variable de entorno 'KAGGLE_CONFIG_DIR' al directorio actual ('.').\n",
        "!kaggle competitions download -c udea-ai-4-eng-20251-pruebas-saber-pro-colombia #descarga los archivos asociados a esa competencia en el directorio actual.\n",
        "!unzip udea-ai-4-eng-20251-pruebas-saber-pro-colombia.zip #Extrae todos los archivos contenidos en el .zip descargado del Kaggle."
      ]
    },
    {
      "cell_type": "code",
      "source": [
        "#1 Lee el archivo 'train.csv'\n",
        "datos = pd.read_csv(\"train.csv\")"
      ],
      "metadata": {
        "id": "KOppi6ilKRiV"
      },
      "execution_count": null,
      "outputs": []
    },
    {
      "cell_type": "markdown",
      "source": [
        "#Procesamiento de datos"
      ],
      "metadata": {
        "id": "LlFtUkjr7JbG"
      }
    },
    {
      "cell_type": "code",
      "source": [
        "#2  Seleccionar variables clave\n",
        "columnas_utiles = [\n",
        "    \"ESTU_VALORMATRICULAUNIVERSIDAD\",\n",
        "    \"FAMI_ESTRATOVIVIENDA\",\n",
        "    \"FAMI_TIENELAVADORA\",\n",
        "    \"FAMI_TIENECOMPUTADOR\",\n",
        "    \"FAMI_TIENEINTERNET\",\n",
        "    \"FAMI_EDUCACIONPADRE\",\n",
        "    \"FAMI_EDUCACIONMADRE\",\n",
        "    \"coef_1\", \"coef_2\", \"coef_3\", \"coef_4\"\n",
        "]\n",
        "\n",
        "X = datos[columnas_utiles]\n",
        "y = datos[\"RENDIMIENTO_GLOBAL\"]"
      ],
      "metadata": {
        "id": "DOpVEAESMc0i"
      },
      "execution_count": null,
      "outputs": []
    },
    {
      "cell_type": "code",
      "source": [
        "#3 Dividir variables\n",
        "cat = X.select_dtypes(include=\"object\").columns\n",
        "num = X.select_dtypes(include=[\"int64\", \"float64\", \"float32\"]).columns\n"
      ],
      "metadata": {
        "id": "KPAAfYpQMeiP"
      },
      "execution_count": null,
      "outputs": []
    },
    {
      "cell_type": "code",
      "source": [
        "#4 Preprocesamiento\n",
        "preprocesador = ColumnTransformer([\n",
        "    (\"num\", SimpleImputer(strategy=\"mean\"), num),\n",
        "    (\"cat\", Pipeline([\n",
        "        (\"imp\", SimpleImputer(strategy=\"most_frequent\")),\n",
        "        (\"ohe\", OneHotEncoder(handle_unknown=\"ignore\"))\n",
        "    ]), cat)\n",
        "])"
      ],
      "metadata": {
        "id": "V1ZTlMt3MhQE"
      },
      "execution_count": null,
      "outputs": []
    },
    {
      "cell_type": "code",
      "source": [
        "#5 Dividir datos\n",
        "X_train, X_test, y_train, y_test = train_test_split(X, y, test_size=0.2, random_state=42)"
      ],
      "metadata": {
        "id": "HEaYuOQhMlBl"
      },
      "execution_count": null,
      "outputs": []
    },
    {
      "cell_type": "code",
      "source": [
        "#6 Pipeline Random Forest reducido\n",
        "modelo_rf = Pipeline(steps=[\n",
        "    (\"pre\", preprocesador),\n",
        "    (\"clf\", RandomForestClassifier(n_estimators=50, max_depth=8, random_state=42))\n",
        "])\n",
        "\n",
        "#7 Entrenamiento y evaluación\n",
        "modelo_rf.fit(X_train, y_train)\n",
        "y_pred = modelo_rf.predict(X_test)\n",
        "print(\"Precisión Random Forest:\", accuracy_score(y_test, y_pred))\n"
      ],
      "metadata": {
        "colab": {
          "base_uri": "https://localhost:8080/"
        },
        "id": "FfUsMR79KVM_",
        "outputId": "33a17afb-7912-435e-caf2-19f86549e062"
      },
      "execution_count": null,
      "outputs": [
        {
          "output_type": "stream",
          "name": "stdout",
          "text": [
            "Precisión Random Forest: 0.3808375451263538\n"
          ]
        }
      ]
    }
  ]
}